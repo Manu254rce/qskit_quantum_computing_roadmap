{
 "cells": [
  {
   "cell_type": "markdown",
   "id": "943f2ff8",
   "metadata": {},
   "source": [
    "# Intro to Qiskit\n",
    "\n"
   ]
  },
  {
   "cell_type": "markdown",
   "id": "4bd2b489",
   "metadata": {},
   "source": [
    "Verify that the installation of Qiskit was successful in your local machine by running the following in a Jupyter Notebook:"
   ]
  },
  {
   "cell_type": "code",
   "execution_count": 1,
   "id": "b8d6a5c9",
   "metadata": {},
   "outputs": [
    {
     "data": {
      "text/plain": [
       "'2.0.0'"
      ]
     },
     "execution_count": 1,
     "metadata": {},
     "output_type": "execute_result"
    }
   ],
   "source": [
    "import qiskit\n",
    "\n",
    "qiskit.__version__"
   ]
  },
  {
   "cell_type": "markdown",
   "id": "0dea7716",
   "metadata": {},
   "source": [
    "Then set up a [backend channel]() to access remote hardware. \n",
    "\n",
    "A backend channel is a connection pathway to a quantum computer or simulator. Qiskit provides access to IBM Quantum's cloud-based quantum computers, which can be used for running quantum circuits and algorithms."
   ]
  },
  {
   "cell_type": "markdown",
   "id": "f2fb126b",
   "metadata": {},
   "source": [
    "## 0.1 Qiskit's four step quantum programming model\n",
    "\n",
    "Qiskit provides a four step structured approach for solving problems with quantum computers. The four steps are:\n",
    "\n",
    "### Step 1: Mapping the problem to a quantum native format\n",
    "    \n",
    "This step involves transforming the problem to a format that can be processed by a quantum computer. This may include;\n",
    "\n",
    "- Converting the data into quantum states/operators.\n",
    "- Mapping the problem to a quantum algorithm.\n",
    "- Encoding the problem into a quantum circuit.\n",
    "\n",
    "### Step 2: Optimizing the circuits and operators\n",
    "    \n",
    "This step involves making the quantum circuits and operators more efficient. This may include;\n",
    "   \n",
    "- Reducing the number of qubits and gates.\n",
    "- Error mitigation by adding techniques to reduce quantum noise.\n",
    "- Resource estimation to determine the number of qubits and gates needed for the problem.\n",
    "\n",
    "### Step 3: Running the quantum circuits\n",
    "    \n",
    "Here, we focus on running the optimized quantum program using a quantum primitive function. \n",
    "\n",
    "A **primitive** refers to the smallest processing instruction that can be yield useful information in a given abstraction level. Qiskit provides these primitives which standardize the way we run quantum programs, making it easier to run them on different quantum backends.\n",
    "\n",
    "In this step, we:\n",
    "\n",
    "- Choose the quantum backend to run the program.\n",
    "- Send the circuit to the backend for execution i.e run a **job**.\n",
    "- Select the appropriate primitive function to run the job. Like a Sampler function to sample the quantum state or a Estimator function to estimate the expectation value of an observable.\n",
    "\n",
    "### Step 4: Analyzing the results\n",
    "This step involves analyzing the results obtained from the quantum circuits. This may include;\n",
    "- Post processing i.e converting the results back to classical data.\n",
    "- Extraction of the solution and identifying the optimal solution.\n",
    "- Visualization of the results using plots and graphs.\n",
    "- Verifying the results to ensure they satisfy the problem constraints.\n",
    "\n",
    "This step will normally involve the use of classical computing resources to analyze the results obtained from the quantum circuits.\n"
   ]
  },
  {
   "cell_type": "markdown",
   "id": "bdfba8a2",
   "metadata": {},
   "source": []
  }
 ],
 "metadata": {
  "kernelspec": {
   "display_name": "QuantumComputing",
   "language": "python",
   "name": "python3"
  },
  "language_info": {
   "codemirror_mode": {
    "name": "ipython",
    "version": 3
   },
   "file_extension": ".py",
   "mimetype": "text/x-python",
   "name": "python",
   "nbconvert_exporter": "python",
   "pygments_lexer": "ipython3",
   "version": "3.13.3"
  }
 },
 "nbformat": 4,
 "nbformat_minor": 5
}
