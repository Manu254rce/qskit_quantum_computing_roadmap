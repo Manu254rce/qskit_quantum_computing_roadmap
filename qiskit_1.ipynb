{
 "cells": [
  {
   "cell_type": "markdown",
   "metadata": {},
   "source": [
    "# Quantum Computing basics with IBM's Qiskit\n",
    "\n",
    "This is a basic guide to get started with Quantum Computing using IBM's Qiskit library. This notebook follows the Basics of Quantum Information course at IBM Quantum Learning, and the theoretical concepts in this notebook can be found at [Unit 1: Single Systems](https://learning.quantum.ibm.com/course/basics-of-quantum-information/single-systems).\n",
    "\n",
    "Since Qiskit is a library written in Python, we start by understanding scientific computing with Python, hence we begin by looking at defining matrices first with the `numpy` library"
   ]
  },
  {
   "cell_type": "code",
   "execution_count": null,
   "metadata": {},
   "outputs": [
    {
     "name": "stdout",
     "output_type": "stream",
     "text": [
      "[[0.5]\n",
      " [0.5]]\n"
     ]
    }
   ],
   "source": [
    "import numpy as np\n",
    "\n",
    "# define two matrices ket0 and ket1, then print their averages\n",
    "\n",
    "ket0 = np.array([[1], [0]])\n",
    "ket1 = np.array([[0], [1]])\n",
    "\n",
    "print(ket0 / 2 + ket1 / 2)"
   ]
  },
  {
   "cell_type": "markdown",
   "metadata": {},
   "source": [
    "We can also define matrices that represent operations on vectors."
   ]
  },
  {
   "cell_type": "code",
   "execution_count": null,
   "metadata": {},
   "outputs": [],
   "source": [
    "M1 = np.array([[1, 1], [0, 0]])\n",
    "M2 = np.array([[1, 0], [0, 1]])\n",
    "\n",
    "M = M1 / 2 + M2 / 2\n",
    "\n",
    "print(M)"
   ]
  },
  {
   "cell_type": "markdown",
   "metadata": {},
   "source": [
    "The `matmul` method from `numpy` can perform matrix multiplication, including matrix-vector multiplication."
   ]
  },
  {
   "cell_type": "code",
   "execution_count": null,
   "metadata": {},
   "outputs": [],
   "source": [
    "print(np.matmul(M1, ket1))\n",
    "print(np.matmul(M1, M2))\n",
    "print(np.matmul(M, M))"
   ]
  },
  {
   "cell_type": "markdown",
   "metadata": {},
   "source": [
    "and we can format the output into a more desirable format with the `array_to_latex` function from `qiskit.visualization` module"
   ]
  },
  {
   "cell_type": "code",
   "execution_count": null,
   "metadata": {},
   "outputs": [],
   "source": [
    "from qiskit.visualization import array_to_latex\n",
    "\n",
    "# note that the `display` function used here is a builtin from Python\n",
    "\n",
    "display(array_to_latex(np.matmul(M1, ket1)))\n",
    "display(array_to_latex(np.matmul(M1, M2)))\n",
    "display(array_to_latex(np.matmul(M, M)))"
   ]
  },
  {
   "cell_type": "code",
   "execution_count": null,
   "metadata": {},
   "outputs": [],
   "source": [
    "from qiskit.quantum_info import Statevector\n",
    "from numpy import sqrt\n",
    "\n",
    "u = Statevector([1 / sqrt(2), 1 / sqrt(2)])\n",
    "v = Statevector([(1 + 2.0j) / 3, -2 /  3])\n",
    "w = Statevector([1 / 3, 2 / 3])\n",
    "\n",
    "display(u.draw(\"text\"))\n",
    "display(u.draw(\"latex\"))\n",
    "print(u.draw(\"latex_source\"))"
   ]
  },
  {
   "cell_type": "code",
   "execution_count": null,
   "metadata": {},
   "outputs": [],
   "source": [
    "display(u.is_valid())\n",
    "display(w.is_valid())"
   ]
  },
  {
   "cell_type": "code",
   "execution_count": 44,
   "metadata": {},
   "outputs": [
    {
     "data": {
      "text/latex": [
       "$$(\\frac{1}{3} + \\frac{2 i}{3}) |0\\rangle- \\frac{2}{3} |1\\rangle$$"
      ],
      "text/plain": [
       "<IPython.core.display.Latex object>"
      ]
     },
     "metadata": {},
     "output_type": "display_data"
    },
    {
     "name": "stdout",
     "output_type": "stream",
     "text": [
      "Measured: 0\n",
      " Post-measurement state: \n"
     ]
    },
    {
     "data": {
      "text/latex": [
       "$$(\\frac{\\sqrt{5}}{5} + \\frac{2 \\sqrt{5} i}{5}) |0\\rangle$$"
      ],
      "text/plain": [
       "<IPython.core.display.Latex object>"
      ]
     },
     "metadata": {},
     "output_type": "display_data"
    }
   ],
   "source": [
    "display(v.draw(\"latex\"))\n",
    "\n",
    "outcome, state = v.measure()\n",
    "print(f\"Measured: {outcome}\\n Post-measurement state: \")\n",
    "display(state.draw(\"latex\"))"
   ]
  },
  {
   "cell_type": "code",
   "execution_count": null,
   "metadata": {},
   "outputs": [],
   "source": [
    "from qiskit.visualization import plot_histogram\n",
    "\n",
    "statistics = v.sample_counts(1000)\n",
    "plot_histogram(statistics)"
   ]
  },
  {
   "cell_type": "code",
   "execution_count": 43,
   "metadata": {},
   "outputs": [
    {
     "data": {
      "text/latex": [
       "$$\n",
       "\n",
       "\\begin{bmatrix}\n",
       "1 & 0  \\\\\n",
       " 0 & \\frac{\\sqrt{2}}{2} + \\frac{\\sqrt{2} i}{2}  \\\\\n",
       " \\end{bmatrix}\n",
       "$$"
      ],
      "text/plain": [
       "<IPython.core.display.Latex object>"
      ]
     },
     "metadata": {},
     "output_type": "display_data"
    }
   ],
   "source": [
    "from qiskit.quantum_info import Operator\n",
    "\n",
    "Y = Operator([[0, -1.0j], [1.0j, 0]])\n",
    "H = Operator([[1 / sqrt(2), 1 / sqrt(2)], [1 / sqrt(2), -1 / sqrt(2)]])\n",
    "S = Operator([[1, 0], [0, 1.0j]])\n",
    "T = Operator([[1, 0], [0, (1 + 1.0j) / sqrt(2)]])\n",
    "\n",
    "display(T.draw(\"latex\"))"
   ]
  },
  {
   "cell_type": "code",
   "execution_count": 47,
   "metadata": {},
   "outputs": [
    {
     "data": {
      "text/latex": [
       "$$(0.1464466094 - 0.3535533906 i) |0\\rangle+(-0.3535533906 + 0.8535533906 i) |1\\rangle$$"
      ],
      "text/plain": [
       "<IPython.core.display.Latex object>"
      ]
     },
     "metadata": {},
     "output_type": "display_data"
    }
   ],
   "source": [
    "v = Statevector([1, 0])\n",
    "\n",
    "v = v.evolve(H)\n",
    "v= v.evolve(T)\n",
    "v = v.evolve(H)\n",
    "v = v.evolve(S)\n",
    "v = v.evolve(Y)\n",
    "\n",
    "display(v.draw(\"latex\"))"
   ]
  },
  {
   "cell_type": "code",
   "execution_count": null,
   "metadata": {},
   "outputs": [
    {
     "data": {
      "image/png": "[encoded data removed]",
      "text/plain": [
       "<Figure size 519.897x117.056 with 1 Axes>"
      ]
     },
     "metadata": {},
     "output_type": "display_data"
    },
    {
     "data": {
      "text/latex": [
       "$$\n",
       "\n",
       "\\begin{bmatrix}\n",
       "0.1464466094 - 0.3535533906 i & 0.8535533906 + 0.3535533906 i  \\\\\n",
       " -0.3535533906 + 0.8535533906 i & 0.3535533906 + 0.1464466094 i  \\\\\n",
       " \\end{bmatrix}\n",
       "$$"
      ],
      "text/plain": [
       "<IPython.core.display.Latex object>"
      ]
     },
     "metadata": {},
     "output_type": "display_data"
    }
   ],
   "source": [
    "from qiskit import QuantumCircuit\n",
    "\n",
    "circuit = QuantumCircuit(1)\n",
    "\n",
    "circuit.h(0)\n",
    "circuit.t(0)\n",
    "circuit.h(0)\n",
    "circuit.s(0)\n",
    "circuit.y(0)\n",
    "\n",
    "display(circuit.draw(output=\"mpl\"))\n",
    "display(Operator.from_circuit(circuit).draw(\"latex\"))"
   ]
  },
  {
   "cell_type": "code",
   "execution_count": 56,
   "metadata": {},
   "outputs": [
    {
     "data": {
      "text/latex": [
       "$$(0.1464466094 - 0.3535533906 i) |0\\rangle+(-0.3535533906 + 0.8535533906 i) |1\\rangle$$"
      ],
      "text/plain": [
       "<IPython.core.display.Latex object>"
      ]
     },
     "metadata": {},
     "output_type": "display_data"
    }
   ],
   "source": [
    "ket0 = Statevector([1, 0])\n",
    "v = ket0.evolve(circuit)\n",
    "display(v.draw('latex'))"
   ]
  },
  {
   "cell_type": "code",
   "execution_count": 57,
   "metadata": {},
   "outputs": [
    {
     "data": {
      "image/png": "[encoded data removed]",
      "text/plain": [
       "<Figure size 640x480 with 1 Axes>"
      ]
     },
     "metadata": {},
     "output_type": "display_data"
    }
   ],
   "source": [
    "statistics = v.sample_counts(4000)\n",
    "display(plot_histogram(statistics))"
   ]
  }
 ],
 "metadata": {
  "kernelspec": {
   "display_name": "QuantumComp",
   "language": "python",
   "name": "python3"
  },
  "language_info": {
   "codemirror_mode": {
    "name": "ipython",
    "version": 3
   },
   "file_extension": ".py",
   "mimetype": "text/x-python",
   "name": "python",
   "nbconvert_exporter": "python",
   "pygments_lexer": "ipython3",
   "version": "3.13.2"
  }
 },
 "nbformat": 4,
 "nbformat_minor": 2
}
